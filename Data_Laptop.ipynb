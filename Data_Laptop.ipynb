{
  "nbformat": 4,
  "nbformat_minor": 0,
  "metadata": {
    "colab": {
      "name": "Untitled0.ipynb",
      "provenance": [],
      "authorship_tag": "ABX9TyNVFLD0r0duhNgYoc2yAJdl",
      "include_colab_link": true
    },
    "kernelspec": {
      "name": "python3",
      "display_name": "Python 3"
    },
    "language_info": {
      "name": "python"
    }
  },
  "cells": [
    {
      "cell_type": "markdown",
      "metadata": {
        "id": "view-in-github",
        "colab_type": "text"
      },
      "source": [
        "<a href=\"https://colab.research.google.com/github/ryankertayasa/DA/blob/main/Data_Laptop.ipynb\" target=\"_parent\"><img src=\"https://colab.research.google.com/assets/colab-badge.svg\" alt=\"Open In Colab\"/></a>"
      ]
    },
    {
      "cell_type": "code",
      "execution_count": null,
      "metadata": {
        "id": "Zwh0S4vkrZYL"
      },
      "outputs": [],
      "source": [
        "import numpy as np # linear algebra\n",
        "import pandas as pd # data processing, CSV file I/O (e.g. pd.read_csv)\n",
        "import seaborn as sns\n",
        "df = pd.read_csv('/content/Data Visiulization/Cleaned_Laptop_data.csv')\n",
        "df\n"
      ]
    },
    {
      "cell_type": "code",
      "source": [
        "df.info()"
      ],
      "metadata": {
        "id": "EqF1VGRrDoe_"
      },
      "execution_count": null,
      "outputs": []
    },
    {
      "cell_type": "code",
      "source": [
        "laptop_data = sns.relplot(x=\"brand\", y=\"latest_price\", hue=\"processor_brand\", size=\"star_rating\",\n",
        "            sizes=(40, 400), alpha=.5, palette=\"muted\",\n",
        "            height=6, data=df,aspect = 2)\n",
        "laptop_data.set_xticklabels(rotation=30)"
      ],
      "metadata": {
        "id": "jlKEs07GDmtR"
      },
      "execution_count": null,
      "outputs": []
    },
    {
      "cell_type": "code",
      "source": [
        "cpu_ram = df[['processor_name','ram_gb']]\n",
        "# cpu_ram.ram_gb.str.extract('(\\d+)')\n",
        "cleaned = cpu_ram.assign(ram_gb = lambda x: x['ram_gb'].str.extract('(\\d+)'))\n",
        "intel = cleaned[cleaned['processor_name'].str.contains('Core i')]\n",
        "intel\n",
        "sns.lineplot(data=intel, x ='processor_name',y='ram_gb')"
      ],
      "metadata": {
        "id": "IiYonQ_-DvYg"
      },
      "execution_count": null,
      "outputs": []
    }
  ]
}